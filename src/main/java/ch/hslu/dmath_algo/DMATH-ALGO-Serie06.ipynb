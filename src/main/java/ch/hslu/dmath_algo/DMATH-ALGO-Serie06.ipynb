{
 "cells": [
  {
   "cell_type": "code",
   "execution_count": 9,
   "id": "ed753df3-fbbb-4d47-a545-b3c67c57f8f4",
   "metadata": {},
   "outputs": [
    {
     "name": "stdout",
     "output_type": "stream",
     "text": [
      "[-1, 1, 1, 3, 4, 6, 8, 19, 19, 200, 400, 500]\n"
     ]
    }
   ],
   "source": [
    "def merge(L,R):\n",
    "    temp = []\n",
    "    while len(L) != 0 or len(R) != 0:\n",
    "        if len(L) != 0 and len(R) != 0:\n",
    "            temp.append(L.pop(0)) if L[0] <= R[0] else temp.append(R.pop(0))        \n",
    "        elif len(L)==0:\n",
    "            temp.append(R.pop(0))\n",
    "        else:\n",
    "            temp.append(L.pop(0))\n",
    "    return temp\n",
    "\n",
    "def mergeSort(A):\n",
    "    if len(A)==1:\n",
    "        return A  \n",
    "    L = mergeSort([A[i] for i in range(len(A)//2)])\n",
    "    R = mergeSort([A[i] for i in range(len(A)//2,len(A))])\n",
    "    return merge(L,R)\n",
    "\n",
    "print(mergeSort([200,1,-1,1,19,4,500,3,6,8,19,400]))"
   ]
  },
  {
   "cell_type": "code",
   "execution_count": 16,
   "id": "dfb2ca4e-2e53-4e10-9a06-6b0c62e2c60e",
   "metadata": {},
   "outputs": [
    {
     "data": {
      "text/plain": [
       "55"
      ]
     },
     "execution_count": 16,
     "metadata": {},
     "output_type": "execute_result"
    }
   ],
   "source": [
    "def summe(n):\n",
    "    if n == 1: \n",
    "        return 1\n",
    "    else:\n",
    "        return n + summe(n-1)\n",
    "\n",
    "summe(10)    "
   ]
  },
  {
   "cell_type": "code",
   "execution_count": 17,
   "id": "98b11453-0dd8-4391-9f0b-75514da61a73",
   "metadata": {},
   "outputs": [
    {
     "data": {
      "text/plain": [
       "120"
      ]
     },
     "execution_count": 17,
     "metadata": {},
     "output_type": "execute_result"
    }
   ],
   "source": [
    "def factorial(n):\n",
    "    if n == 1: \n",
    "        return 1\n",
    "    else:\n",
    "        return n * factorial(n-1)\n",
    "\n",
    "factorial(5)"
   ]
  }
 ],
 "metadata": {
  "kernelspec": {
   "display_name": "Python 3 (ipykernel)",
   "language": "python",
   "name": "python3"
  },
  "language_info": {
   "codemirror_mode": {
    "name": "ipython",
    "version": 3
   },
   "file_extension": ".py",
   "mimetype": "text/x-python",
   "name": "python",
   "nbconvert_exporter": "python",
   "pygments_lexer": "ipython3",
   "version": "3.10.6"
  }
 },
 "nbformat": 4,
 "nbformat_minor": 5
}
